{
 "cells": [
  {
   "cell_type": "code",
   "execution_count": 1,
   "id": "d96f6385-62df-490c-ad26-37fc552b908d",
   "metadata": {},
   "outputs": [
    {
     "name": "stdout",
     "output_type": "stream",
     "text": [
      "\n",
      "     active environment : practica0\n",
      "    active env location : C:\\Users\\jacki\\anaconda3\\envs\\practica0\n",
      "            shell level : 2\n",
      "       user config file : C:\\Users\\jacki\\.condarc\n",
      " populated config files : C:\\Users\\jacki\\.condarc\n",
      "          conda version : 24.9.1\n",
      "    conda-build version : 24.5.1\n",
      "         python version : 3.12.4.final.0\n",
      "                 solver : libmamba (default)\n",
      "       virtual packages : __archspec=1=icelake\n",
      "                          __conda=24.9.1=0\n",
      "                          __win=0=0\n",
      "       base environment : C:\\Users\\jacki\\anaconda3  (writable)\n",
      "      conda av data dir : C:\\Users\\jacki\\anaconda3\\etc\\conda\n",
      "  conda av metadata url : None\n",
      "           channel URLs : https://repo.anaconda.com/pkgs/main/win-64\n",
      "                          https://repo.anaconda.com/pkgs/main/noarch\n",
      "                          https://repo.anaconda.com/pkgs/r/win-64\n",
      "                          https://repo.anaconda.com/pkgs/r/noarch\n",
      "                          https://repo.anaconda.com/pkgs/msys2/win-64\n",
      "                          https://repo.anaconda.com/pkgs/msys2/noarch\n",
      "          package cache : C:\\Users\\jacki\\anaconda3\\pkgs\n",
      "                          C:\\Users\\jacki\\.conda\\pkgs\n",
      "                          C:\\Users\\jacki\\AppData\\Local\\conda\\conda\\pkgs\n",
      "       envs directories : C:\\Users\\jacki\\anaconda3\\envs\n",
      "                          C:\\Users\\jacki\\.conda\\envs\n",
      "                          C:\\Users\\jacki\\AppData\\Local\\conda\\conda\\envs\n",
      "               platform : win-64\n",
      "             user-agent : conda/24.9.1 requests/2.32.2 CPython/3.12.4 Windows/11 Windows/10.0.22631 solver/libmamba conda-libmamba-solver/24.1.0 libmambapy/1.5.8 aau/0.4.4 c/. s/. e/.\n",
      "          administrator : False\n",
      "             netrc file : None\n",
      "           offline mode : False\n",
      "\n",
      "\n"
     ]
    }
   ],
   "source": [
    "!conda info"
   ]
  },
  {
   "cell_type": "code",
   "execution_count": 2,
   "id": "ebfe3dda-4ef1-4d0f-b065-65556092c837",
   "metadata": {},
   "outputs": [
    {
     "name": "stdout",
     "output_type": "stream",
     "text": [
      "# packages in environment at C:\\Users\\jacki\\anaconda3\\envs\\practica0:\n",
      "#\n",
      "# Name                    Version                   Build  Channel\n",
      "anyio                     4.6.2.post1              pypi_0    pypi\n",
      "argon2-cffi               23.1.0                   pypi_0    pypi\n",
      "argon2-cffi-bindings      21.2.0                   pypi_0    pypi\n",
      "arrow                     1.3.0                    pypi_0    pypi\n",
      "asttokens                 2.4.1                    pypi_0    pypi\n",
      "async-lru                 2.0.4                    pypi_0    pypi\n",
      "attrs                     24.2.0                   pypi_0    pypi\n",
      "babel                     2.16.0                   pypi_0    pypi\n",
      "beautifulsoup4            4.12.3                   pypi_0    pypi\n",
      "bleach                    6.1.0                    pypi_0    pypi\n",
      "bzip2                     1.0.8                h2bbff1b_6  \n",
      "ca-certificates           2024.9.24            haa95532_0  \n",
      "certifi                   2024.8.30                pypi_0    pypi\n",
      "cffi                      1.17.1                   pypi_0    pypi\n",
      "charset-normalizer        3.4.0                    pypi_0    pypi\n",
      "colorama                  0.4.6                    pypi_0    pypi\n",
      "comm                      0.2.2                    pypi_0    pypi\n",
      "contourpy                 1.3.0                    pypi_0    pypi\n",
      "cycler                    0.12.1                   pypi_0    pypi\n",
      "debugpy                   1.8.7                    pypi_0    pypi\n",
      "decorator                 5.1.1                    pypi_0    pypi\n",
      "defusedxml                0.7.1                    pypi_0    pypi\n",
      "executing                 2.1.0                    pypi_0    pypi\n",
      "expat                     2.6.3                h5da7b33_0  \n",
      "fastjsonschema            2.20.0                   pypi_0    pypi\n",
      "fonttools                 4.54.1                   pypi_0    pypi\n",
      "fqdn                      1.5.1                    pypi_0    pypi\n",
      "h11                       0.14.0                   pypi_0    pypi\n",
      "httpcore                  1.0.6                    pypi_0    pypi\n",
      "httpx                     0.27.2                   pypi_0    pypi\n",
      "idna                      3.10                     pypi_0    pypi\n",
      "importlib-resources       6.4.5                    pypi_0    pypi\n",
      "ipykernel                 6.29.5                   pypi_0    pypi\n",
      "ipython                   8.28.0                   pypi_0    pypi\n",
      "ipywidgets                8.1.5                    pypi_0    pypi\n",
      "isoduration               20.11.0                  pypi_0    pypi\n",
      "jedi                      0.19.1                   pypi_0    pypi\n",
      "jinja2                    3.1.4                    pypi_0    pypi\n",
      "json5                     0.9.25                   pypi_0    pypi\n",
      "jsonpointer               3.0.0                    pypi_0    pypi\n",
      "jsonschema                4.23.0                   pypi_0    pypi\n",
      "jsonschema-specifications 2024.10.1                pypi_0    pypi\n",
      "jupyter                   1.1.1                    pypi_0    pypi\n",
      "jupyter-client            8.6.3                    pypi_0    pypi\n",
      "jupyter-console           6.6.3                    pypi_0    pypi\n",
      "jupyter-core              5.7.2                    pypi_0    pypi\n",
      "jupyter-events            0.10.0                   pypi_0    pypi\n",
      "jupyter-lsp               2.2.5                    pypi_0    pypi\n",
      "jupyter-server            2.14.2                   pypi_0    pypi\n",
      "jupyter-server-terminals  0.5.3                    pypi_0    pypi\n",
      "jupyterlab                4.2.5                    pypi_0    pypi\n",
      "jupyterlab-pygments       0.3.0                    pypi_0    pypi\n",
      "jupyterlab-server         2.27.3                   pypi_0    pypi\n",
      "jupyterlab-widgets        3.0.13                   pypi_0    pypi\n",
      "kiwisolver                1.4.7                    pypi_0    pypi\n",
      "libffi                    3.4.4                hd77b12b_1  \n",
      "libmpdec                  4.0.0                h827c3e9_0  \n",
      "markupsafe                3.0.2                    pypi_0    pypi\n",
      "matplotlib                3.9.2                    pypi_0    pypi\n",
      "matplotlib-inline         0.1.7                    pypi_0    pypi\n",
      "mistune                   3.0.2                    pypi_0    pypi\n",
      "nbclient                  0.10.0                   pypi_0    pypi\n",
      "nbconvert                 7.16.4                   pypi_0    pypi\n",
      "nbformat                  5.10.4                   pypi_0    pypi\n",
      "nest-asyncio              1.6.0                    pypi_0    pypi\n",
      "notebook                  7.2.2                    pypi_0    pypi\n",
      "notebook-shim             0.2.4                    pypi_0    pypi\n",
      "numpy                     2.1.2                    pypi_0    pypi\n",
      "openssl                   3.0.15               h827c3e9_0  \n",
      "overrides                 7.7.0                    pypi_0    pypi\n",
      "packaging                 24.1                     pypi_0    pypi\n",
      "pandas                    2.2.3                    pypi_0    pypi\n",
      "pandocfilters             1.5.1                    pypi_0    pypi\n",
      "parso                     0.8.4                    pypi_0    pypi\n",
      "pillow                    11.0.0                   pypi_0    pypi\n",
      "pip                       24.2            py313haa95532_0  \n",
      "platformdirs              4.3.6                    pypi_0    pypi\n",
      "prometheus-client         0.21.0                   pypi_0    pypi\n",
      "prompt-toolkit            3.0.48                   pypi_0    pypi\n",
      "psutil                    6.1.0                    pypi_0    pypi\n",
      "pure-eval                 0.2.3                    pypi_0    pypi\n",
      "pycparser                 2.22                     pypi_0    pypi\n",
      "pygments                  2.18.0                   pypi_0    pypi\n",
      "pyparsing                 3.2.0                    pypi_0    pypi\n",
      "python                    3.13.0          hadb2040_100_cp313  \n",
      "python-dateutil           2.9.0.post0              pypi_0    pypi\n",
      "python-json-logger        2.0.7                    pypi_0    pypi\n",
      "python_abi                3.13                    0_cp313  \n",
      "pytz                      2024.2                   pypi_0    pypi\n",
      "pywin32                   308                      pypi_0    pypi\n",
      "pywinpty                  2.0.14                   pypi_0    pypi\n",
      "pyyaml                    6.0.2                    pypi_0    pypi\n",
      "pyzmq                     26.2.0                   pypi_0    pypi\n",
      "referencing               0.35.1                   pypi_0    pypi\n",
      "requests                  2.32.3                   pypi_0    pypi\n",
      "rfc3339-validator         0.1.4                    pypi_0    pypi\n",
      "rfc3986-validator         0.1.1                    pypi_0    pypi\n",
      "rpds-py                   0.20.0                   pypi_0    pypi\n",
      "scipy                     1.14.1                   pypi_0    pypi\n",
      "send2trash                1.8.3                    pypi_0    pypi\n",
      "setuptools                75.1.0          py313haa95532_0  \n",
      "six                       1.16.0                   pypi_0    pypi\n",
      "sniffio                   1.3.1                    pypi_0    pypi\n",
      "soupsieve                 2.6                      pypi_0    pypi\n",
      "sqlite                    3.45.3               h2bbff1b_0  \n",
      "stack-data                0.6.3                    pypi_0    pypi\n",
      "sweetviz                  2.3.1                    pypi_0    pypi\n",
      "terminado                 0.18.1                   pypi_0    pypi\n",
      "tinycss2                  1.3.0                    pypi_0    pypi\n",
      "tk                        8.6.14               h0416ee5_0  \n",
      "tornado                   6.4.1                    pypi_0    pypi\n",
      "tqdm                      4.66.5                   pypi_0    pypi\n",
      "traitlets                 5.14.3                   pypi_0    pypi\n",
      "types-python-dateutil     2.9.0.20241003           pypi_0    pypi\n",
      "tzdata                    2024.2                   pypi_0    pypi\n",
      "uri-template              1.3.0                    pypi_0    pypi\n",
      "urllib3                   2.2.3                    pypi_0    pypi\n",
      "vc                        14.40                h2eaa2aa_1  \n",
      "vs2015_runtime            14.40.33807          h98bb1dd_1  \n",
      "wcwidth                   0.2.13                   pypi_0    pypi\n",
      "webcolors                 24.8.0                   pypi_0    pypi\n",
      "webencodings              0.5.1                    pypi_0    pypi\n",
      "websocket-client          1.8.0                    pypi_0    pypi\n",
      "wheel                     0.44.0          py313haa95532_0  \n",
      "widgetsnbextension        4.0.13                   pypi_0    pypi\n",
      "xz                        5.4.6                h8cc25b3_1  \n",
      "zlib                      1.2.13               h8cc25b3_1  \n"
     ]
    }
   ],
   "source": [
    "!conda list"
   ]
  },
  {
   "cell_type": "code",
   "execution_count": 3,
   "id": "760cdda8-2c01-4e7e-903c-9453387ad23e",
   "metadata": {},
   "outputs": [
    {
     "name": "stdout",
     "output_type": "stream",
     "text": [
      "# conda environments:\n",
      "#\n",
      "base                     C:\\Users\\jacki\\anaconda3\n",
      "Entorno_proyecto_1       C:\\Users\\jacki\\anaconda3\\envs\\Entorno_proyecto_1\n",
      "practica0             *  C:\\Users\\jacki\\anaconda3\\envs\\practica0\n",
      "\n"
     ]
    }
   ],
   "source": [
    "!conda info --env"
   ]
  },
  {
   "cell_type": "code",
   "execution_count": 7,
   "id": "1f45d312-0642-4d2f-bf27-1567549f5974",
   "metadata": {},
   "outputs": [
    {
     "name": "stdout",
     "output_type": "stream",
     "text": [
      "C:\\Users\\jacki\\anaconda3\\envs\\practica0\\python.exe\n"
     ]
    }
   ],
   "source": [
    "import sys\n",
    "\n",
    "#conda activate nuevo_entorno\n",
    "# \n",
    "\n",
    "print(sys.executable)"
   ]
  },
  {
   "cell_type": "code",
   "execution_count": 8,
   "id": "89e1e297-65d2-4774-aef7-15c8f0dd09b8",
   "metadata": {},
   "outputs": [],
   "source": [
    "import pandas as pd\n",
    "\n",
    "import sweetviz as sv"
   ]
  },
  {
   "cell_type": "code",
   "execution_count": 11,
   "id": "e6bc339c-6f1b-4c5a-ba7e-e14509251c1a",
   "metadata": {},
   "outputs": [
    {
     "data": {
      "text/html": [
       "<div>\n",
       "<style scoped>\n",
       "    .dataframe tbody tr th:only-of-type {\n",
       "        vertical-align: middle;\n",
       "    }\n",
       "\n",
       "    .dataframe tbody tr th {\n",
       "        vertical-align: top;\n",
       "    }\n",
       "\n",
       "    .dataframe thead th {\n",
       "        text-align: right;\n",
       "    }\n",
       "</style>\n",
       "<table border=\"1\" class=\"dataframe\">\n",
       "  <thead>\n",
       "    <tr style=\"text-align: right;\">\n",
       "      <th></th>\n",
       "      <th>c1</th>\n",
       "      <th>c2</th>\n",
       "      <th>c2_corregido</th>\n",
       "    </tr>\n",
       "  </thead>\n",
       "  <tbody>\n",
       "    <tr>\n",
       "      <th>0</th>\n",
       "      <td>8</td>\n",
       "      <td>1%</td>\n",
       "      <td>1.0</td>\n",
       "    </tr>\n",
       "    <tr>\n",
       "      <th>1</th>\n",
       "      <td>33</td>\n",
       "      <td>45</td>\n",
       "      <td>45.0</td>\n",
       "    </tr>\n",
       "  </tbody>\n",
       "</table>\n",
       "</div>"
      ],
      "text/plain": [
       "   c1  c2  c2_corregido\n",
       "0   8  1%           1.0\n",
       "1  33  45          45.0"
      ]
     },
     "execution_count": 11,
     "metadata": {},
     "output_type": "execute_result"
    }
   ],
   "source": [
    "import pandas as pd\n",
    "\n",
    "pd_data = pd.DataFrame([[8, '1%'], [33, 45]], columns=['c1', 'c2']) \n",
    "pd_data['c2_corregido'] = pd_data['c2'].apply(lambda x: float(str(x).replace('%', ''))) #para cada numero le aplica una función\n",
    "\n",
    "pd_data"
   ]
  },
  {
   "cell_type": "code",
   "execution_count": null,
   "id": "15ffc795-e220-4352-aef0-040bbac896f4",
   "metadata": {},
   "outputs": [],
   "source": [
    "def replace_number(x):\n",
    "    return float(str(x).replace('%', ''))"
   ]
  },
  {
   "cell_type": "code",
   "execution_count": null,
   "id": "b932302a-2866-4cd3-b6e2-13fbf99ce476",
   "metadata": {},
   "outputs": [],
   "source": [
    "#si tiene muchos distinct puede ser categorica\n",
    "\n",
    "#si hace un grafico transpuesto, por defecto, puede ser categoricas\n",
    "\n",
    "# si tiene 94% de valores missing\n",
    "\n",
    "\n",
    "#Se puede hacer reporte con Ydata_profile"
   ]
  }
 ],
 "metadata": {
  "kernelspec": {
   "display_name": "Python 3 (ipykernel)",
   "language": "python",
   "name": "python3"
  },
  "language_info": {
   "codemirror_mode": {
    "name": "ipython",
    "version": 3
   },
   "file_extension": ".py",
   "mimetype": "text/x-python",
   "name": "python",
   "nbconvert_exporter": "python",
   "pygments_lexer": "ipython3",
   "version": "3.13.0"
  }
 },
 "nbformat": 4,
 "nbformat_minor": 5
}
